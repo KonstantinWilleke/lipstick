{
 "cells": [
  {
   "cell_type": "code",
   "execution_count": null,
   "metadata": {},
   "outputs": [],
   "source": [
    "import numpy as np\n",
    "import lipstick as lk\n",
    "\n",
    "x1 = np.array([1, 1, 4, -1])\n",
    "x2 = np.array([2, -2, 3, 5])\n",
    "lk.cumulative_bar(x1, x2);"
   ]
  },
  {
   "cell_type": "code",
   "execution_count": null,
   "metadata": {},
   "outputs": [],
   "source": [
    "import seaborn as sns\n",
    "\n",
    "fig, ax = lk.differential_bar(x, y, width=.25, fig_kws={'figsize': (8, 3), 'dpi': 150})\n",
    "ax.set(ylabel=\"Bla\", xticks=[])\n",
    "sns.despine(trim=True, bottom=True, ax=ax)"
   ]
  },
  {
   "cell_type": "markdown",
   "metadata": {},
   "source": [
    "---"
   ]
  },
  {
   "cell_type": "code",
   "execution_count": 1,
   "metadata": {},
   "outputs": [],
   "source": [
    "import numpy as np\n",
    "import matplotlib.pyplot as plt"
   ]
  },
  {
   "cell_type": "code",
   "execution_count": 2,
   "metadata": {},
   "outputs": [
    {
     "data": {
      "image/png": "[encoded data removed]",
      "text/plain": [
       "<Figure size 432x288 with 1 Axes>"
      ]
     },
     "metadata": {
      "needs_background": "light"
     },
     "output_type": "display_data"
    }
   ],
   "source": [
    "arrays = [[1, 2, 5, 10, 4, 11], \n",
    "          [1, 5, 10, 4]]\n",
    "\n",
    "fig, ax = plt.subplots()\n",
    "\n",
    "linewidth = 2\n",
    "\n",
    "for data_i, data in enumerate(arrays):\n",
    "\n",
    "    height = np.concatenate((np.array([data[0]]), np.diff(data)))\n",
    "    bottom = np.concatenate((np.array([0]), np.array(data[:-1])))\n",
    "\n",
    "    total_width = .8\n",
    "    single_bar_widths = .7 * total_width / len(data)\n",
    "    linelength = total_width / len(data) - single_bar_widths\n",
    "    x = data_i + np.concatenate((np.array([0]), np.arange(1, len(data)) * total_width/len(data)))\n",
    "    left_edges = x - single_bar_widths/2\n",
    "    right_edges = x + single_bar_widths/2\n",
    "    \n",
    "    ax.bar(x, \n",
    "           height, \n",
    "           bottom=bottom, \n",
    "           width=single_bar_widths, edgecolor='k', linewidth=linewidth)\n",
    "\n",
    "    for i in range(len(data)-1):\n",
    "        plt.plot([left_edges[i+1], right_edges[i]], [data[i], data[i]], c='k', lw=2)"
   ]
  },
  {
   "cell_type": "code",
   "execution_count": 1,
   "metadata": {},
   "outputs": [
    {
     "data": {
      "image/png": "[encoded data removed]",
      "text/plain": [
       "<Figure size 432x288 with 1 Axes>"
      ]
     },
     "metadata": {
      "needs_background": "light"
     },
     "output_type": "display_data"
    }
   ],
   "source": [
    "from lipstick import cumulative_bar\n",
    "\n",
    "arrays = [[1, 2], \n",
    "          [1, 5, 3, 1]]\n",
    "\n",
    "fig, ax = cumulative_bar(*arrays)"
   ]
  }
 ],
 "metadata": {
  "kernelspec": {
   "display_name": "ds",
   "language": "python",
   "name": "ds"
  },
  "language_info": {
   "codemirror_mode": {
    "name": "ipython",
    "version": 3
   },
   "file_extension": ".py",
   "mimetype": "text/x-python",
   "name": "python",
   "nbconvert_exporter": "python",
   "pygments_lexer": "ipython3",
   "version": "3.8.3"
  }
 },
 "nbformat": 4,
 "nbformat_minor": 4
}
