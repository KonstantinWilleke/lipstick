{
 "cells": [
  {
   "cell_type": "code",
   "execution_count": 5,
   "metadata": {},
   "outputs": [
    {
     "data": {
      "image/png": "[encoded data removed]",
      "text/plain": [
       "<Figure size 432x288 with 1 Axes>"
      ]
     },
     "metadata": {
      "needs_background": "light"
     },
     "output_type": "display_data"
    }
   ],
   "source": [
    "import numpy as np\n",
    "import lipstick as lk\n",
    "\n",
    "x1 = np.array([1, 1, 4, -1])\n",
    "x2 = np.array([2, -2, 3, 5])\n",
    "lk.cumulative_bar(x1, x2);"
   ]
  },
  {
   "cell_type": "code",
   "execution_count": 3,
   "metadata": {},
   "outputs": [
    {
     "data": {
      "image/png": "[encoded data removed]",
      "text/plain": [
       "<Figure size 1200x450 with 1 Axes>"
      ]
     },
     "metadata": {
      "needs_background": "light"
     },
     "output_type": "display_data"
    }
   ],
   "source": [
    "import seaborn as sns\n",
    "\n",
    "fig, ax = lk.differential_bar(x, y, width=.25, fig_kws={'figsize': (8, 3), 'dpi': 150})\n",
    "ax.set(ylabel=\"Bla\", xticks=[])\n",
    "sns.despine(trim=True, bottom=True, ax=ax)"
   ]
  },
  {
   "cell_type": "markdown",
   "metadata": {},
   "source": [
    "---"
   ]
  },
  {
   "cell_type": "code",
   "execution_count": 5,
   "metadata": {},
   "outputs": [
    {
     "name": "stdout",
     "output_type": "stream",
     "text": [
      "Collecting mplfinance\n",
      "  Downloading mplfinance-0.12.7a5-py3-none-any.whl (55 kB)\n",
      "Requirement already satisfied, skipping upgrade: matplotlib in c:\\users\\moham\\anaconda3\\envs\\ds\\lib\\site-packages (from mplfinance) (3.3.0)\n",
      "Requirement already satisfied, skipping upgrade: pandas in c:\\users\\moham\\anaconda3\\envs\\ds\\lib\\site-packages (from mplfinance) (1.0.5)\n",
      "Requirement already satisfied, skipping upgrade: cycler>=0.10 in c:\\users\\moham\\anaconda3\\envs\\ds\\lib\\site-packages (from matplotlib->mplfinance) (0.10.0)\n",
      "Requirement already satisfied, skipping upgrade: pyparsing!=2.0.4,!=2.1.2,!=2.1.6,>=2.0.3 in c:\\users\\moham\\anaconda3\\envs\\ds\\lib\\site-packages (from matplotlib->mplfinance) (2.4.7)\n",
      "Requirement already satisfied, skipping upgrade: numpy>=1.15 in c:\\users\\moham\\anaconda3\\envs\\ds\\lib\\site-packages (from matplotlib->mplfinance) (1.18.5)\n",
      "Requirement already satisfied, skipping upgrade: kiwisolver>=1.0.1 in c:\\users\\moham\\anaconda3\\envs\\ds\\lib\\site-packages (from matplotlib->mplfinance) (1.2.0)\n",
      "Requirement already satisfied, skipping upgrade: python-dateutil>=2.1 in c:\\users\\moham\\anaconda3\\envs\\ds\\lib\\site-packages (from matplotlib->mplfinance) (2.8.1)\n",
      "Requirement already satisfied, skipping upgrade: pillow>=6.2.0 in c:\\users\\moham\\anaconda3\\envs\\ds\\lib\\site-packages (from matplotlib->mplfinance) (7.2.0)\n",
      "Requirement already satisfied, skipping upgrade: pytz>=2017.2 in c:\\users\\moham\\anaconda3\\envs\\ds\\lib\\site-packages (from pandas->mplfinance) (2020.1)\n",
      "Requirement already satisfied, skipping upgrade: six in c:\\users\\moham\\anaconda3\\envs\\ds\\lib\\site-packages (from cycler>=0.10->matplotlib->mplfinance) (1.15.0)\n",
      "Installing collected packages: mplfinance\n",
      "Successfully installed mplfinance-0.12.7a5\n"
     ]
    }
   ],
   "source": [
    "# https://github.com/matplotlib/mplfinance#newapi\n",
    "\n",
    "!pip install --upgrade mplfinance"
   ]
  },
  {
   "cell_type": "code",
   "execution_count": 3,
   "metadata": {},
   "outputs": [],
   "source": [
    "from mplfinance import mplfinance"
   ]
  },
  {
   "cell_type": "code",
   "execution_count": 2,
   "metadata": {},
   "outputs": [
    {
     "ename": "ImportError",
     "evalue": "cannot import name 'candlestick_ohlc' from 'mplfinance' (C:\\Users\\moham\\anaconda3\\envs\\ds\\lib\\site-packages\\mplfinance\\__init__.py)",
     "output_type": "error",
     "traceback": [
      "\u001b[1;31m---------------------------------------------------------------------------\u001b[0m",
      "\u001b[1;31mImportError\u001b[0m                               Traceback (most recent call last)",
      "\u001b[1;32m<ipython-input-2-3826258e6667>\u001b[0m in \u001b[0;36m<module>\u001b[1;34m\u001b[0m\n\u001b[0;32m      1\u001b[0m \u001b[1;32mimport\u001b[0m \u001b[0mmatplotlib\u001b[0m\u001b[1;33m.\u001b[0m\u001b[0mpyplot\u001b[0m \u001b[1;32mas\u001b[0m \u001b[0mplt\u001b[0m\u001b[1;33m\u001b[0m\u001b[1;33m\u001b[0m\u001b[0m\n\u001b[1;32m----> 2\u001b[1;33m \u001b[1;32mfrom\u001b[0m \u001b[0mmplfinance\u001b[0m \u001b[1;32mimport\u001b[0m \u001b[0mcandlestick_ohlc\u001b[0m\u001b[1;33m\u001b[0m\u001b[1;33m\u001b[0m\u001b[0m\n\u001b[0m\u001b[0;32m      3\u001b[0m \u001b[1;32mimport\u001b[0m \u001b[0mpandas\u001b[0m \u001b[1;32mas\u001b[0m \u001b[0mpd\u001b[0m\u001b[1;33m\u001b[0m\u001b[1;33m\u001b[0m\u001b[0m\n\u001b[0;32m      4\u001b[0m \u001b[1;32mimport\u001b[0m \u001b[0mmatplotlib\u001b[0m\u001b[1;33m.\u001b[0m\u001b[0mdates\u001b[0m \u001b[1;32mas\u001b[0m \u001b[0mmpl_dates\u001b[0m\u001b[1;33m\u001b[0m\u001b[1;33m\u001b[0m\u001b[0m\n\u001b[0;32m      5\u001b[0m \u001b[1;33m\u001b[0m\u001b[0m\n",
      "\u001b[1;31mImportError\u001b[0m: cannot import name 'candlestick_ohlc' from 'mplfinance' (C:\\Users\\moham\\anaconda3\\envs\\ds\\lib\\site-packages\\mplfinance\\__init__.py)"
     ]
    }
   ],
   "source": [
    "import matplotlib.pyplot as plt\n",
    "from mplfinance import candlestick_ohlc\n",
    "import pandas as pd\n",
    "import matplotlib.dates as mpl_dates\n",
    "\n",
    "plt.style.use('ggplot')\n",
    "\n",
    "# Extracting Data for plotting\n",
    "data = pd.read_csv('candlestick_python_data.csv')\n",
    "ohlc = data.loc[:, ['Date', 'Open', 'High', 'Low', 'Close']]\n",
    "ohlc['Date'] = pd.to_datetime(ohlc['Date'])\n",
    "ohlc['Date'] = ohlc['Date'].apply(mpl_dates.date2num)\n",
    "ohlc = ohlc.astype(float)\n",
    "\n",
    "# Creating Subplots\n",
    "fig, ax = plt.subplots()\n",
    "\n",
    "candlestick_ohlc(ax, ohlc.values, width=0.6, colorup='green', colordown='red', alpha=0.8)\n",
    "\n",
    "# Setting labels & titles\n",
    "ax.set_xlabel('Date')\n",
    "ax.set_ylabel('Price')\n",
    "fig.suptitle('Daily Candlestick Chart of NIFTY50')\n",
    "\n",
    "# Formatting Date\n",
    "date_format = mpl_dates.DateFormatter('%d-%m-%Y')\n",
    "ax.xaxis.set_major_formatter(date_format)\n",
    "fig.autofmt_xdate()\n",
    "\n",
    "fig.tight_layout()\n",
    "\n",
    "plt.show()"
   ]
  },
  {
   "cell_type": "code",
   "execution_count": null,
   "metadata": {},
   "outputs": [],
   "source": []
  }
 ],
 "metadata": {
  "kernelspec": {
   "display_name": "ds",
   "language": "python",
   "name": "ds"
  },
  "language_info": {
   "codemirror_mode": {
    "name": "ipython",
    "version": 3
   },
   "file_extension": ".py",
   "mimetype": "text/x-python",
   "name": "python",
   "nbconvert_exporter": "python",
   "pygments_lexer": "ipython3",
   "version": "3.8.3"
  }
 },
 "nbformat": 4,
 "nbformat_minor": 4
}
